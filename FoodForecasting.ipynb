{
 "cells": [
  {
   "cell_type": "markdown",
   "id": "e6088f08",
   "metadata": {},
   "source": [
    "# Importing modules"
   ]
  },
  {
   "cell_type": "code",
   "execution_count": 3,
   "id": "a34f6d12",
   "metadata": {},
   "outputs": [],
   "source": [
    "import pandas as pd\n",
    "import numpy as np\n",
    "#import tensorflow as tf\n",
    "#import matplotlib.pyplot as plt"
   ]
  },
  {
   "cell_type": "markdown",
   "id": "dfb72cbe",
   "metadata": {},
   "source": [
    "# Reading CSVs"
   ]
  },
  {
   "cell_type": "code",
   "execution_count": 10,
   "id": "45b252ca",
   "metadata": {},
   "outputs": [],
   "source": [
    "fulfilment_center_info = pd.read_csv(\"./CSVs/fulfilment_center_info.csv\")\n",
    "meal_info = pd.read_csv(\"./CSVs/meal_info.csv\")\n",
    "test = pd.read_csv(\"./CSVs/test.csv\")\n",
    "train = pd.read_csv(\"./CSVs/train.csv\")\n",
    "sample_submission = pd.read_csv(\"./CSVs/sample_submission.csv\")"
   ]
  }
 ],
 "metadata": {
  "kernelspec": {
   "display_name": "Python 3",
   "language": "python",
   "name": "python3"
  },
  "language_info": {
   "codemirror_mode": {
    "name": "ipython",
    "version": 3
   },
   "file_extension": ".py",
   "mimetype": "text/x-python",
   "name": "python",
   "nbconvert_exporter": "python",
   "pygments_lexer": "ipython3",
   "version": "3.8.5"
  }
 },
 "nbformat": 4,
 "nbformat_minor": 5
}
